{
 "cells": [
  {
   "cell_type": "markdown",
   "id": "9fa6f803",
   "metadata": {},
   "source": [
    "## Numpy核心array对象以及创建array的方法"
   ]
  },
  {
   "cell_type": "markdown",
   "id": "456e7cc4",
   "metadata": {},
   "source": [
    "### array对象的背景\n",
    "* Numpy的核心数据结构，叫做array数组，array对象可以是一维数组，也可以是多维数组\n",
    "* Numpy array和python list的区别：\n",
    "> * array的元素只能是一种数据类型，例如int型。这也是array性能比list好的一个原因。\n",
    "> * array 比 list 的优点：性能更好、包含数组元数据信息、大量的便捷函数。"
   ]
  },
  {
   "cell_type": "markdown",
   "id": "ce92c61f",
   "metadata": {},
   "source": [
    "### array的属性\n",
    "* shape : 返回一个元组，表示array的维度\n",
    "* ndim ：表示array维度的数目\n",
    "* size ：表示array中所有数据元素的数目\n",
    "* dtype ：array中元素的数据类型"
   ]
  },
  {
   "cell_type": "markdown",
   "id": "4d66ffc6",
   "metadata": {},
   "source": [
    "### 创建array的方法\n",
    "* 从Python的列表list和嵌套列表创建array\n",
    "* 使用预定函数：arange、ones/ones_like、zeros/zeros_like、empty/empty_like、full/full_like、eye等创建array\n",
    "* 生成随机的数的np.random模块构建"
   ]
  },
  {
   "cell_type": "markdown",
   "id": "2d740da4",
   "metadata": {},
   "source": [
    "### array支持的函数\n",
    "* 直接组元素加减乘除\n",
    "* 更好用的面向多维的数组索引\n",
    "* 求sum/mean等聚合函数\n",
    "* 线性代数函数：求解逆矩阵，求解方程组。"
   ]
  },
  {
   "cell_type": "markdown",
   "id": "1191124c",
   "metadata": {},
   "source": [
    "### 1.使用list方法创建array"
   ]
  },
  {
   "cell_type": "code",
   "execution_count": 39,
   "id": "55086b4b",
   "metadata": {},
   "outputs": [],
   "source": [
    "import numpy as np"
   ]
  },
  {
   "cell_type": "code",
   "execution_count": 40,
   "id": "4e9fda92",
   "metadata": {},
   "outputs": [],
   "source": [
    "# 创建一个一维数组\n",
    "x = np.array([1,2,3,4,5,6,7,8])"
   ]
  },
  {
   "cell_type": "code",
   "execution_count": 41,
   "id": "e41b7442",
   "metadata": {},
   "outputs": [
    {
     "data": {
      "text/plain": [
       "array([1, 2, 3, 4, 5, 6, 7, 8])"
      ]
     },
     "execution_count": 41,
     "metadata": {},
     "output_type": "execute_result"
    }
   ],
   "source": [
    "x"
   ]
  },
  {
   "cell_type": "code",
   "execution_count": 42,
   "id": "4ca7ed2f",
   "metadata": {},
   "outputs": [],
   "source": [
    "# 创建一个二维数组\n",
    "X = np.array([\n",
    "    [1,2,3,4],\n",
    "    [5,6,7,8]\n",
    "])"
   ]
  },
  {
   "cell_type": "code",
   "execution_count": 43,
   "id": "098bb346",
   "metadata": {},
   "outputs": [
    {
     "data": {
      "text/plain": [
       "array([[1, 2, 3, 4],\n",
       "       [5, 6, 7, 8]])"
      ]
     },
     "execution_count": 43,
     "metadata": {},
     "output_type": "execute_result"
    }
   ],
   "source": [
    "X"
   ]
  },
  {
   "cell_type": "markdown",
   "id": "7b2ca8c6",
   "metadata": {},
   "source": [
    "### 2.数组array的属性"
   ]
  },
  {
   "cell_type": "code",
   "execution_count": 44,
   "id": "a4ad5438",
   "metadata": {},
   "outputs": [
    {
     "data": {
      "text/plain": [
       "(8,)"
      ]
     },
     "execution_count": 44,
     "metadata": {},
     "output_type": "execute_result"
    }
   ],
   "source": [
    "x.shape"
   ]
  },
  {
   "cell_type": "code",
   "execution_count": 45,
   "id": "218cf96d",
   "metadata": {},
   "outputs": [
    {
     "data": {
      "text/plain": [
       "(2, 4)"
      ]
     },
     "execution_count": 45,
     "metadata": {},
     "output_type": "execute_result"
    }
   ],
   "source": [
    "X.shape"
   ]
  },
  {
   "cell_type": "code",
   "execution_count": 46,
   "id": "3523614e",
   "metadata": {},
   "outputs": [
    {
     "data": {
      "text/plain": [
       "1"
      ]
     },
     "execution_count": 46,
     "metadata": {},
     "output_type": "execute_result"
    }
   ],
   "source": [
    "x.ndim"
   ]
  },
  {
   "cell_type": "code",
   "execution_count": 47,
   "id": "7b294fb4",
   "metadata": {},
   "outputs": [
    {
     "data": {
      "text/plain": [
       "2"
      ]
     },
     "execution_count": 47,
     "metadata": {},
     "output_type": "execute_result"
    }
   ],
   "source": [
    "X.ndim"
   ]
  },
  {
   "cell_type": "code",
   "execution_count": 48,
   "id": "142d3ce2",
   "metadata": {},
   "outputs": [
    {
     "data": {
      "text/plain": [
       "8"
      ]
     },
     "execution_count": 48,
     "metadata": {},
     "output_type": "execute_result"
    }
   ],
   "source": [
    "x.size"
   ]
  },
  {
   "cell_type": "code",
   "execution_count": 49,
   "id": "ef303712",
   "metadata": {},
   "outputs": [
    {
     "data": {
      "text/plain": [
       "8"
      ]
     },
     "execution_count": 49,
     "metadata": {},
     "output_type": "execute_result"
    }
   ],
   "source": [
    "X.size"
   ]
  },
  {
   "cell_type": "code",
   "execution_count": 50,
   "id": "150b72c5",
   "metadata": {},
   "outputs": [
    {
     "data": {
      "text/plain": [
       "dtype('int32')"
      ]
     },
     "execution_count": 50,
     "metadata": {},
     "output_type": "execute_result"
    }
   ],
   "source": [
    "x.dtype"
   ]
  },
  {
   "cell_type": "code",
   "execution_count": 51,
   "id": "0cb22b16",
   "metadata": {},
   "outputs": [
    {
     "data": {
      "text/plain": [
       "dtype('int32')"
      ]
     },
     "execution_count": 51,
     "metadata": {},
     "output_type": "execute_result"
    }
   ],
   "source": [
    "X.dtype"
   ]
  },
  {
   "cell_type": "markdown",
   "id": "97af4d86",
   "metadata": {},
   "source": [
    "### 3.创建array的便捷函数"
   ]
  },
  {
   "cell_type": "markdown",
   "id": "4e777b8a",
   "metadata": {},
   "source": [
    "#### 使用arange创建数字序列\n",
    "arange([star], [stop], [step], dtype=None)"
   ]
  },
  {
   "cell_type": "code",
   "execution_count": 52,
   "id": "90c900ca",
   "metadata": {},
   "outputs": [
    {
     "data": {
      "text/plain": [
       "array([0, 1, 2, 3, 4, 5, 6, 7, 8, 9])"
      ]
     },
     "execution_count": 52,
     "metadata": {},
     "output_type": "execute_result"
    }
   ],
   "source": [
    "np.arange(10)"
   ]
  },
  {
   "cell_type": "code",
   "execution_count": 53,
   "id": "96f7f3ea",
   "metadata": {},
   "outputs": [
    {
     "data": {
      "text/plain": [
       "array([2, 4, 6, 8])"
      ]
     },
     "execution_count": 53,
     "metadata": {},
     "output_type": "execute_result"
    }
   ],
   "source": [
    "np.arange(2,10,2)"
   ]
  },
  {
   "cell_type": "markdown",
   "id": "d24bf8a3",
   "metadata": {},
   "source": [
    "#### 使用ones创建全是1的数组\n",
    "np.ones(shape,dtype=None,order='C')\n",
    "shape:int or tuple of ints.(2,3) or 10."
   ]
  },
  {
   "cell_type": "code",
   "execution_count": 54,
   "id": "f14e5c61",
   "metadata": {},
   "outputs": [
    {
     "data": {
      "text/plain": [
       "array([1., 1., 1., 1., 1., 1., 1., 1., 1., 1.])"
      ]
     },
     "execution_count": 54,
     "metadata": {},
     "output_type": "execute_result"
    }
   ],
   "source": [
    "np.ones(10)"
   ]
  },
  {
   "cell_type": "code",
   "execution_count": 55,
   "id": "75cd6a7d",
   "metadata": {},
   "outputs": [
    {
     "data": {
      "text/plain": [
       "array([[1., 1., 1., 1.],\n",
       "       [1., 1., 1., 1.]])"
      ]
     },
     "execution_count": 55,
     "metadata": {},
     "output_type": "execute_result"
    }
   ],
   "source": [
    "np.ones((2,4))"
   ]
  },
  {
   "cell_type": "markdown",
   "id": "4332e3b7",
   "metadata": {},
   "source": [
    "### 使用ones_like创建\n",
    "np.ones_like(array a,dtype=float,order='C')"
   ]
  },
  {
   "cell_type": "code",
   "execution_count": 56,
   "id": "c9adf038",
   "metadata": {},
   "outputs": [
    {
     "data": {
      "text/plain": [
       "array([1, 1, 1, 1, 1, 1, 1, 1])"
      ]
     },
     "execution_count": 56,
     "metadata": {},
     "output_type": "execute_result"
    }
   ],
   "source": [
    "np.ones_like(x)"
   ]
  },
  {
   "cell_type": "code",
   "execution_count": 57,
   "id": "edbfa598",
   "metadata": {},
   "outputs": [
    {
     "data": {
      "text/plain": [
       "array([[1, 1, 1, 1],\n",
       "       [1, 1, 1, 1]])"
      ]
     },
     "execution_count": 57,
     "metadata": {},
     "output_type": "execute_result"
    }
   ],
   "source": [
    "np.ones_like(X)"
   ]
  },
  {
   "cell_type": "markdown",
   "id": "111e4424",
   "metadata": {},
   "source": [
    "### zeros和zeros_like语法和ones和ones_like一样"
   ]
  },
  {
   "cell_type": "code",
   "execution_count": 58,
   "id": "c9252331",
   "metadata": {},
   "outputs": [
    {
     "data": {
      "text/plain": [
       "array([0., 0., 0., 0., 0., 0., 0., 0., 0., 0.])"
      ]
     },
     "execution_count": 58,
     "metadata": {},
     "output_type": "execute_result"
    }
   ],
   "source": [
    "np.zeros(10)"
   ]
  },
  {
   "cell_type": "code",
   "execution_count": 59,
   "id": "8f86cb22",
   "metadata": {},
   "outputs": [
    {
     "data": {
      "text/plain": [
       "array([0, 0, 0, 0, 0, 0, 0, 0])"
      ]
     },
     "execution_count": 59,
     "metadata": {},
     "output_type": "execute_result"
    }
   ],
   "source": [
    "np.zeros_like(x)"
   ]
  },
  {
   "cell_type": "code",
   "execution_count": 60,
   "id": "aa2a55ef",
   "metadata": {},
   "outputs": [
    {
     "data": {
      "text/plain": [
       "array([[0, 0, 0, 0],\n",
       "       [0, 0, 0, 0]])"
      ]
     },
     "execution_count": 60,
     "metadata": {},
     "output_type": "execute_result"
    }
   ],
   "source": [
    "np.zeros_like(X)"
   ]
  },
  {
   "cell_type": "markdown",
   "id": "c6f6b96d",
   "metadata": {},
   "source": [
    "#### 使用empty创建全是0的数组\n",
    "empty(shape,dtype=float,order='C')\n",
    "注意：数据是未初始化的，里面的值可能是随机值不要使用"
   ]
  },
  {
   "cell_type": "code",
   "execution_count": 61,
   "id": "fd069382",
   "metadata": {},
   "outputs": [
    {
     "data": {
      "text/plain": [
       "array([0., 0., 0., 0., 0., 0., 0., 0., 0., 0.])"
      ]
     },
     "execution_count": 61,
     "metadata": {},
     "output_type": "execute_result"
    }
   ],
   "source": [
    "np.empty(10)"
   ]
  },
  {
   "cell_type": "code",
   "execution_count": 62,
   "id": "e6e646b8",
   "metadata": {},
   "outputs": [
    {
     "data": {
      "text/plain": [
       "array([[0., 0., 0.],\n",
       "       [0., 0., 0.]])"
      ]
     },
     "execution_count": 62,
     "metadata": {},
     "output_type": "execute_result"
    }
   ],
   "source": [
    "np.empty((2,3))"
   ]
  },
  {
   "cell_type": "markdown",
   "id": "375fbbbe",
   "metadata": {},
   "source": [
    "#### 使用empty_like创建形状相同的数组\n",
    "np.empty_like(prototype,dtype=None)"
   ]
  },
  {
   "cell_type": "code",
   "execution_count": 63,
   "id": "459d1317",
   "metadata": {},
   "outputs": [
    {
     "data": {
      "text/plain": [
       "array([  0,   1,   0, 400, 992,   0, 768,  69])"
      ]
     },
     "execution_count": 63,
     "metadata": {},
     "output_type": "execute_result"
    }
   ],
   "source": [
    "np.empty_like(x)"
   ]
  },
  {
   "cell_type": "code",
   "execution_count": 64,
   "id": "4451dcdc",
   "metadata": {},
   "outputs": [
    {
     "data": {
      "text/plain": [
       "array([[  0,   1,   0,   0],\n",
       "       [960,   0, 768,   0]])"
      ]
     },
     "execution_count": 64,
     "metadata": {},
     "output_type": "execute_result"
    }
   ],
   "source": [
    "np.empty_like(X)"
   ]
  },
  {
   "cell_type": "markdown",
   "id": "e305fbda",
   "metadata": {},
   "source": [
    "#### 使用full创建指定值的数组\n",
    "np.full(shape,fill_value,dtype=None,order='C')"
   ]
  },
  {
   "cell_type": "code",
   "execution_count": 65,
   "id": "4c276eff",
   "metadata": {},
   "outputs": [
    {
     "data": {
      "text/plain": [
       "array([666, 666, 666, 666, 666, 666, 666, 666, 666, 666])"
      ]
     },
     "execution_count": 65,
     "metadata": {},
     "output_type": "execute_result"
    }
   ],
   "source": [
    "np.full(10,666)"
   ]
  },
  {
   "cell_type": "code",
   "execution_count": 66,
   "id": "433c3331",
   "metadata": {},
   "outputs": [
    {
     "data": {
      "text/plain": [
       "array([[333, 333, 333, 333],\n",
       "       [333, 333, 333, 333]])"
      ]
     },
     "execution_count": 66,
     "metadata": {},
     "output_type": "execute_result"
    }
   ],
   "source": [
    "np.full((2,4),333)"
   ]
  },
  {
   "cell_type": "markdown",
   "id": "59d39cc5",
   "metadata": {},
   "source": [
    "#### 使用full_like创建形状相同的数组\n",
    "np.full_like(a,fill_value,dtype=None)"
   ]
  },
  {
   "cell_type": "code",
   "execution_count": 67,
   "id": "fa80e3c4",
   "metadata": {},
   "outputs": [
    {
     "data": {
      "text/plain": [
       "array([666, 666, 666, 666, 666, 666, 666, 666])"
      ]
     },
     "execution_count": 67,
     "metadata": {},
     "output_type": "execute_result"
    }
   ],
   "source": [
    "np.full_like(x,666)"
   ]
  },
  {
   "cell_type": "code",
   "execution_count": 68,
   "id": "36d069e7",
   "metadata": {},
   "outputs": [
    {
     "data": {
      "text/plain": [
       "array([[333, 333, 333, 333],\n",
       "       [333, 333, 333, 333]])"
      ]
     },
     "execution_count": 68,
     "metadata": {},
     "output_type": "execute_result"
    }
   ],
   "source": [
    "np.full_like(X,333)"
   ]
  },
  {
   "cell_type": "markdown",
   "id": "06934c4c",
   "metadata": {},
   "source": [
    "#### 使用randn生成随机数组\n",
    "randn(d1,d2,...,dn)"
   ]
  },
  {
   "cell_type": "code",
   "execution_count": 70,
   "id": "a70ccd6c",
   "metadata": {},
   "outputs": [
    {
     "data": {
      "text/plain": [
       "array([[[ 1.5084707 ,  1.36349098, -1.11306932, -1.03816232],\n",
       "        [ 0.04623496,  0.70871188, -0.7336921 , -1.36262168]]])"
      ]
     },
     "execution_count": 70,
     "metadata": {},
     "output_type": "execute_result"
    }
   ],
   "source": [
    "np.random.randn(1,2,4)"
   ]
  },
  {
   "cell_type": "code",
   "execution_count": 71,
   "id": "af9e0e0f",
   "metadata": {},
   "outputs": [
    {
     "data": {
      "text/plain": [
       "-1.4232947545511203"
      ]
     },
     "execution_count": 71,
     "metadata": {},
     "output_type": "execute_result"
    }
   ],
   "source": [
    "np.random.randn()"
   ]
  },
  {
   "cell_type": "code",
   "execution_count": 72,
   "id": "9b8fc77d",
   "metadata": {},
   "outputs": [
    {
     "data": {
      "text/plain": [
       "array([[ 1.41934907,  1.03027701, -0.10577845,  0.26872025],\n",
       "       [ 0.46596171,  1.58884692, -0.14945202, -0.946758  ],\n",
       "       [-1.01466509, -0.12928814, -0.85411405,  0.49460794]])"
      ]
     },
     "execution_count": 72,
     "metadata": {},
     "output_type": "execute_result"
    }
   ],
   "source": [
    "np.random.randn(3,4)"
   ]
  },
  {
   "cell_type": "code",
   "execution_count": null,
   "id": "16da9972",
   "metadata": {},
   "outputs": [],
   "source": []
  }
 ],
 "metadata": {
  "kernelspec": {
   "display_name": "Python 3",
   "language": "python",
   "name": "python3"
  },
  "language_info": {
   "codemirror_mode": {
    "name": "ipython",
    "version": 3
   },
   "file_extension": ".py",
   "mimetype": "text/x-python",
   "name": "python",
   "nbconvert_exporter": "python",
   "pygments_lexer": "ipython3",
   "version": "3.8.8"
  }
 },
 "nbformat": 4,
 "nbformat_minor": 5
}
