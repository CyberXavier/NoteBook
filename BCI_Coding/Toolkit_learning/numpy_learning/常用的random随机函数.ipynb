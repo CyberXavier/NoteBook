{
 "cells": [
  {
   "cell_type": "markdown",
   "id": "00a6c3c5",
   "metadata": {},
   "source": [
    "# 常用的random随机函数"
   ]
  },
  {
   "cell_type": "code",
   "execution_count": 2,
   "id": "4e1bf486",
   "metadata": {},
   "outputs": [],
   "source": [
    "import numpy as np\n",
    "np.random.seed(666)"
   ]
  },
  {
   "cell_type": "markdown",
   "id": "7c2d799b",
   "metadata": {},
   "source": [
    "**1.rand(d0,d1,......,dn)**\n",
    "***返回数据在[0,1)之间，具有均匀分布***"
   ]
  },
  {
   "cell_type": "code",
   "execution_count": 2,
   "id": "9463d08e",
   "metadata": {},
   "outputs": [
    {
     "data": {
      "text/plain": [
       "array([0.70043712, 0.84418664, 0.67651434, 0.72785806, 0.95145796])"
      ]
     },
     "execution_count": 2,
     "metadata": {},
     "output_type": "execute_result"
    }
   ],
   "source": [
    "np.random.rand(5)"
   ]
  },
  {
   "cell_type": "code",
   "execution_count": 4,
   "id": "782864e4",
   "metadata": {},
   "outputs": [
    {
     "data": {
      "text/plain": [
       "array([[0.0127032 , 0.4135877 , 0.04881279, 0.09992856],\n",
       "       [0.50806631, 0.20024754, 0.74415417, 0.192892  ],\n",
       "       [0.70084475, 0.29322811, 0.77447945, 0.00510884]])"
      ]
     },
     "execution_count": 4,
     "metadata": {},
     "output_type": "execute_result"
    }
   ],
   "source": [
    "np.random.rand(3,4)"
   ]
  },
  {
   "cell_type": "code",
   "execution_count": 5,
   "id": "a0b23e55",
   "metadata": {},
   "outputs": [
    {
     "data": {
      "text/plain": [
       "array([[[0.11285765, 0.11095367, 0.24766823, 0.0232363 ],\n",
       "        [0.72732115, 0.34003494, 0.19750316, 0.90917959],\n",
       "        [0.97834699, 0.53280254, 0.25913185, 0.58381262]],\n",
       "\n",
       "       [[0.32569065, 0.88889931, 0.62640453, 0.81887369],\n",
       "        [0.54734542, 0.41671201, 0.74304719, 0.36959638],\n",
       "        [0.07516654, 0.77519298, 0.21940924, 0.07934213]]])"
      ]
     },
     "execution_count": 5,
     "metadata": {},
     "output_type": "execute_result"
    }
   ],
   "source": [
    "np.random.rand(2,3,4)"
   ]
  },
  {
   "cell_type": "markdown",
   "id": "d68a21b3",
   "metadata": {},
   "source": [
    "**2.randn(d0,d1,...,dn)**\n",
    "**返回具有标准正态分布(均值0，方差1)**"
   ]
  },
  {
   "cell_type": "code",
   "execution_count": 6,
   "id": "eb16b409",
   "metadata": {},
   "outputs": [
    {
     "data": {
      "text/plain": [
       "array([-1.20990266, -0.04618272, -0.44118244,  0.46953431,  0.44325817])"
      ]
     },
     "execution_count": 6,
     "metadata": {},
     "output_type": "execute_result"
    }
   ],
   "source": [
    "np.random.randn(5)"
   ]
  },
  {
   "cell_type": "code",
   "execution_count": 7,
   "id": "c698e6d7",
   "metadata": {},
   "outputs": [
    {
     "data": {
      "text/plain": [
       "array([[-1.66738875, -1.81731749, -1.39753916,  0.78392691],\n",
       "       [-0.29129965,  0.67049043,  0.706931  ,  1.42965241],\n",
       "       [-0.41407013, -1.32672274, -0.14880188,  0.34771289]])"
      ]
     },
     "execution_count": 7,
     "metadata": {},
     "output_type": "execute_result"
    }
   ],
   "source": [
    "np.random.randn(3,4)"
   ]
  },
  {
   "cell_type": "markdown",
   "id": "394d9ce1",
   "metadata": {},
   "source": [
    "**3.randint(low[,high,size,dtype])**\n",
    "* 生成随机整数，包含low，不包含high[low,high)]\n",
    "* 只有low的话，[0,low)]"
   ]
  },
  {
   "cell_type": "code",
   "execution_count": 25,
   "id": "b6d57cdc",
   "metadata": {},
   "outputs": [
    {
     "data": {
      "text/plain": [
       "0"
      ]
     },
     "execution_count": 25,
     "metadata": {},
     "output_type": "execute_result"
    }
   ],
   "source": [
    "np.random.randint(5)"
   ]
  },
  {
   "cell_type": "code",
   "execution_count": 35,
   "id": "7f985c60",
   "metadata": {},
   "outputs": [
    {
     "data": {
      "text/plain": [
       "9"
      ]
     },
     "execution_count": 35,
     "metadata": {},
     "output_type": "execute_result"
    }
   ],
   "source": [
    "np.random.randint(1,10)"
   ]
  },
  {
   "cell_type": "code",
   "execution_count": 43,
   "id": "57fcd1bb",
   "metadata": {},
   "outputs": [
    {
     "data": {
      "text/plain": [
       "array([14, 21, 29, 25, 19])"
      ]
     },
     "execution_count": 43,
     "metadata": {},
     "output_type": "execute_result"
    }
   ],
   "source": [
    "np.random.randint(10,30,size=(5,))"
   ]
  },
  {
   "cell_type": "code",
   "execution_count": 47,
   "id": "598895fb",
   "metadata": {},
   "outputs": [
    {
     "data": {
      "text/plain": [
       "array([[[29, 24, 20, 26],\n",
       "        [19, 14, 13, 25],\n",
       "        [24, 24, 16, 24]],\n",
       "\n",
       "       [[26, 23, 12, 20],\n",
       "        [15, 23, 26, 23],\n",
       "        [18, 23, 18, 18]]])"
      ]
     },
     "execution_count": 47,
     "metadata": {},
     "output_type": "execute_result"
    }
   ],
   "source": [
    "np.random.randint(10,30,size=(2,3,4))"
   ]
  },
  {
   "cell_type": "markdown",
   "id": "e80a1ec7",
   "metadata": {},
   "source": [
    "**random(size),生成[0.0,1.0)之间的随机数**"
   ]
  },
  {
   "cell_type": "code",
   "execution_count": 3,
   "id": "bb4281b0",
   "metadata": {},
   "outputs": [
    {
     "data": {
      "text/plain": [
       "array([0.70043712, 0.84418664, 0.67651434, 0.72785806, 0.95145796])"
      ]
     },
     "execution_count": 3,
     "metadata": {},
     "output_type": "execute_result"
    }
   ],
   "source": [
    "np.random.random(5)"
   ]
  },
  {
   "cell_type": "markdown",
   "id": "cfda539d",
   "metadata": {},
   "source": [
    "**choice(a,size,replace,p)**\n",
    "a 是一维数组，从它里面生成随机数"
   ]
  },
  {
   "cell_type": "code",
   "execution_count": 4,
   "id": "52060e0e",
   "metadata": {},
   "outputs": [
    {
     "data": {
      "text/plain": [
       "array([3, 3, 4])"
      ]
     },
     "execution_count": 4,
     "metadata": {},
     "output_type": "execute_result"
    }
   ],
   "source": [
    "np.random.choice(5,3)"
   ]
  },
  {
   "cell_type": "code",
   "execution_count": 5,
   "id": "b47065dd",
   "metadata": {},
   "outputs": [
    {
     "data": {
      "text/plain": [
       "array([5, 7, 2])"
      ]
     },
     "execution_count": 5,
     "metadata": {},
     "output_type": "execute_result"
    }
   ],
   "source": [
    "np.random.choice([1,2,3,4,5,6,7],3)"
   ]
  },
  {
   "cell_type": "code",
   "execution_count": 6,
   "id": "04fec1ad",
   "metadata": {},
   "outputs": [
    {
     "data": {
      "text/plain": [
       "array([[1, 9, 8],\n",
       "       [6, 3, 6]])"
      ]
     },
     "execution_count": 6,
     "metadata": {},
     "output_type": "execute_result"
    }
   ],
   "source": [
    "np.random.choice([1,2,3,4,5,6,7,8,9,10],(2,3))"
   ]
  },
  {
   "cell_type": "markdown",
   "id": "d4e316df",
   "metadata": {},
   "source": [
    "### 6.shuffle(x)\n",
    "把一个数组x进行随机排列\n",
    "会直接修改原数组"
   ]
  },
  {
   "cell_type": "code",
   "execution_count": 38,
   "id": "e83acf7b",
   "metadata": {},
   "outputs": [
    {
     "data": {
      "text/plain": [
       "array([0, 4, 3, 9, 7, 5, 1, 6, 2, 8])"
      ]
     },
     "execution_count": 38,
     "metadata": {},
     "output_type": "execute_result"
    }
   ],
   "source": [
    "arr = np.arange(10)\n",
    "np.random.shuffle(arr)\n",
    "arr"
   ]
  },
  {
   "cell_type": "code",
   "execution_count": 12,
   "id": "ed379fd0",
   "metadata": {},
   "outputs": [
    {
     "data": {
      "text/plain": [
       "array([[ 0,  1,  2,  3,  4],\n",
       "       [ 5,  6,  7,  8,  9],\n",
       "       [10, 11, 12, 13, 14],\n",
       "       [15, 16, 17, 18, 19]])"
      ]
     },
     "execution_count": 12,
     "metadata": {},
     "output_type": "execute_result"
    }
   ],
   "source": [
    "a = np.arange(20).reshape(4,5)\n",
    "a"
   ]
  },
  {
   "cell_type": "code",
   "execution_count": 22,
   "id": "12a82348",
   "metadata": {},
   "outputs": [
    {
     "data": {
      "text/plain": [
       "array([[15, 16, 17, 18, 19],\n",
       "       [10, 11, 12, 13, 14],\n",
       "       [ 0,  1,  2,  3,  4],\n",
       "       [ 5,  6,  7,  8,  9]])"
      ]
     },
     "execution_count": 22,
     "metadata": {},
     "output_type": "execute_result"
    }
   ],
   "source": [
    "# 如果数组是多维的，那么函数只会将第一维度进行打散\n",
    "np.random.shuffle(a)\n",
    "a"
   ]
  },
  {
   "cell_type": "markdown",
   "id": "6e8f8b57",
   "metadata": {},
   "source": [
    "### 7.permutation(x)\n",
    "**把一个数组x随机排列，或者数字的全排列**\n",
    "会重新copy一个数组不会修改原数组"
   ]
  },
  {
   "cell_type": "code",
   "execution_count": 23,
   "id": "ec6b2e1d",
   "metadata": {},
   "outputs": [
    {
     "data": {
      "text/plain": [
       "array([7, 0, 3, 2, 8, 6, 5, 1, 9, 4])"
      ]
     },
     "execution_count": 23,
     "metadata": {},
     "output_type": "execute_result"
    }
   ],
   "source": [
    "np.random.permutation(10)"
   ]
  },
  {
   "cell_type": "code",
   "execution_count": 29,
   "id": "ab2651d5",
   "metadata": {},
   "outputs": [
    {
     "data": {
      "text/plain": [
       "array([[ 0,  1,  2,  3,  4],\n",
       "       [ 5,  6,  7,  8,  9],\n",
       "       [10, 11, 12, 13, 14],\n",
       "       [15, 16, 17, 18, 19]])"
      ]
     },
     "execution_count": 29,
     "metadata": {},
     "output_type": "execute_result"
    }
   ],
   "source": [
    "arr = np.arange(20).reshape(4,5)\n",
    "arr"
   ]
  },
  {
   "cell_type": "code",
   "execution_count": 35,
   "id": "763b960a",
   "metadata": {},
   "outputs": [
    {
     "data": {
      "text/plain": [
       "array([[ 5,  6,  7,  8,  9],\n",
       "       [10, 11, 12, 13, 14],\n",
       "       [15, 16, 17, 18, 19],\n",
       "       [ 0,  1,  2,  3,  4]])"
      ]
     },
     "execution_count": 35,
     "metadata": {},
     "output_type": "execute_result"
    }
   ],
   "source": [
    "a = np.random.permutation(arr)\n",
    "a"
   ]
  },
  {
   "cell_type": "code",
   "execution_count": 36,
   "id": "c67c0d47",
   "metadata": {},
   "outputs": [
    {
     "data": {
      "text/plain": [
       "array([[ 0,  1,  2,  3,  4],\n",
       "       [ 5,  6,  7,  8,  9],\n",
       "       [10, 11, 12, 13, 14],\n",
       "       [15, 16, 17, 18, 19]])"
      ]
     },
     "execution_count": 36,
     "metadata": {},
     "output_type": "execute_result"
    }
   ],
   "source": [
    "arr"
   ]
  },
  {
   "cell_type": "markdown",
   "id": "fc7931d1",
   "metadata": {},
   "source": [
    "### 8.normal(loc,scale,size)\n",
    "按照平均值loc和方差scale生成高斯分布的数字"
   ]
  },
  {
   "cell_type": "code",
   "execution_count": 39,
   "id": "b4a4adcb",
   "metadata": {},
   "outputs": [
    {
     "data": {
      "text/plain": [
       "array([ 0.30079628,  7.45494792, -5.05590199, 18.39251096,  8.1150415 ,\n",
       "       -0.70650046,  9.00130022,  7.77755091, -8.5042859 ,  0.42923371])"
      ]
     },
     "execution_count": 39,
     "metadata": {},
     "output_type": "execute_result"
    }
   ],
   "source": [
    "np.random.normal(1,10,10)"
   ]
  },
  {
   "cell_type": "code",
   "execution_count": 40,
   "id": "69f6f1be",
   "metadata": {},
   "outputs": [
    {
     "data": {
      "text/plain": [
       "array([[  4.59510764,   6.22945658,  -8.13958987],\n",
       "       [ -4.84949296,  -4.83923708,   0.92818374],\n",
       "       [-18.42966605,  -1.20202276, -14.70517626]])"
      ]
     },
     "execution_count": 40,
     "metadata": {},
     "output_type": "execute_result"
    }
   ],
   "source": [
    "np.random.normal(1,10,(3,3))"
   ]
  },
  {
   "cell_type": "markdown",
   "id": "5ddbc115",
   "metadata": {},
   "source": [
    "### 9. uniform(low,high,size)\n",
    "在low，high之间生成均匀分布的数字"
   ]
  },
  {
   "cell_type": "code",
   "execution_count": 41,
   "id": "167ac5db",
   "metadata": {},
   "outputs": [
    {
     "data": {
      "text/plain": [
       "array([1.80842449, 7.11463217, 6.9033549 , 1.03549959, 1.59887205,\n",
       "       1.01008982, 6.99475435, 4.47086044, 1.84652446, 5.12710816])"
      ]
     },
     "execution_count": 41,
     "metadata": {},
     "output_type": "execute_result"
    }
   ],
   "source": [
    "np.random.uniform(1,10,10)"
   ]
  },
  {
   "cell_type": "code",
   "execution_count": 42,
   "id": "28ed78e1",
   "metadata": {},
   "outputs": [
    {
     "data": {
      "text/plain": [
       "array([[6.79907556, 6.35497965, 8.11542766, 8.19972162],\n",
       "       [7.11728127, 4.94876667, 3.36123003, 3.12869695],\n",
       "       [8.55101869, 4.31869005, 6.57269544, 5.19907896]])"
      ]
     },
     "execution_count": 42,
     "metadata": {},
     "output_type": "execute_result"
    }
   ],
   "source": [
    "np.random.uniform(1,10,(3,4))"
   ]
  },
  {
   "cell_type": "markdown",
   "id": "026bbef6",
   "metadata": {},
   "source": [
    "### 示例：加入噪声"
   ]
  },
  {
   "cell_type": "code",
   "execution_count": 43,
   "id": "84ad22c8",
   "metadata": {},
   "outputs": [],
   "source": [
    "import matplotlib.pyplot as plt"
   ]
  },
  {
   "cell_type": "code",
   "execution_count": 45,
   "id": "429e9bf9",
   "metadata": {},
   "outputs": [
    {
     "data": {
      "image/png": "[encoded data removed]",
      "text/plain": [
       "<Figure size 432x288 with 1 Axes>"
      ]
     },
     "metadata": {
      "needs_background": "light"
     },
     "output_type": "display_data"
    }
   ],
   "source": [
    "#绘制sin曲线\n",
    "x = np.linspace(-10,10,100)\n",
    "y = np.sin(x)\n",
    "plt.plot(x,y)\n",
    "plt.show()"
   ]
  },
  {
   "cell_type": "code",
   "execution_count": 50,
   "id": "21730b30",
   "metadata": {},
   "outputs": [
    {
     "data": {
      "image/png": "[encoded data removed]",
      "text/plain": [
       "<Figure size 432x288 with 1 Axes>"
      ]
     },
     "metadata": {
      "needs_background": "light"
     },
     "output_type": "display_data"
    }
   ],
   "source": [
    "#加入噪声\n",
    "x = np.linspace(-10,10,100)\n",
    "y = np.sin(x)+np.random.rand(len(x))\n",
    "plt.plot(x,y)\n",
    "plt.show()"
   ]
  },
  {
   "cell_type": "code",
   "execution_count": null,
   "id": "ccf3b3ca",
   "metadata": {},
   "outputs": [],
   "source": []
  }
 ],
 "metadata": {
  "kernelspec": {
   "display_name": "Python 3",
   "language": "python",
   "name": "python3"
  },
  "language_info": {
   "codemirror_mode": {
    "name": "ipython",
    "version": 3
   },
   "file_extension": ".py",
   "mimetype": "text/x-python",
   "name": "python",
   "nbconvert_exporter": "python",
   "pygments_lexer": "ipython3",
   "version": "3.8.8"
  }
 },
 "nbformat": 4,
 "nbformat_minor": 5
}
