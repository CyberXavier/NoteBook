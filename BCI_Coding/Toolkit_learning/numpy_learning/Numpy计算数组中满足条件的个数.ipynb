{
 "cells": [
  {
   "cell_type": "markdown",
   "id": "2b0a8ac3",
   "metadata": {},
   "source": [
    "## Numpy计算数组中满足条件的个数\n",
    "\n",
    "例如：在一个非常大的数组中（一亿个数字），找出其中数字小于5000的数字数目。"
   ]
  },
  {
   "cell_type": "markdown",
   "id": "50d10484",
   "metadata": {},
   "source": [
    "### 1.使用numpy生成一亿个随机数字 "
   ]
  },
  {
   "cell_type": "code",
   "execution_count": 2,
   "id": "d6642b30",
   "metadata": {},
   "outputs": [],
   "source": [
    "import numpy as np"
   ]
  },
  {
   "cell_type": "code",
   "execution_count": 3,
   "id": "f02c4e3c",
   "metadata": {},
   "outputs": [],
   "source": [
    "arr = np.random.randint(1,10000,size=int(1e8))"
   ]
  },
  {
   "cell_type": "code",
   "execution_count": 4,
   "id": "5ed19c41",
   "metadata": {},
   "outputs": [
    {
     "data": {
      "text/plain": [
       "array([2021, 5056, 6569, 2066, 1275, 3878, 5705, 1093, 1956,   27])"
      ]
     },
     "execution_count": 4,
     "metadata": {},
     "output_type": "execute_result"
    }
   ],
   "source": [
    "arr[:10]"
   ]
  },
  {
   "cell_type": "code",
   "execution_count": 6,
   "id": "7ff7f278",
   "metadata": {},
   "outputs": [
    {
     "data": {
      "text/plain": [
       "100000000"
      ]
     },
     "execution_count": 6,
     "metadata": {},
     "output_type": "execute_result"
    }
   ],
   "source": [
    "arr.size"
   ]
  },
  {
   "cell_type": "markdown",
   "id": "82d292d9",
   "metadata": {},
   "source": [
    "### 2.使用python原生语法实现 "
   ]
  },
  {
   "cell_type": "code",
   "execution_count": 7,
   "id": "e4d90191",
   "metadata": {},
   "outputs": [],
   "source": [
    "pyarr = list(arr)"
   ]
  },
  {
   "cell_type": "code",
   "execution_count": 8,
   "id": "deb49b35",
   "metadata": {},
   "outputs": [
    {
     "data": {
      "text/plain": [
       "[2021, 5056, 6569, 2066, 1275, 3878, 5705, 1093, 1956, 27]"
      ]
     },
     "execution_count": 8,
     "metadata": {},
     "output_type": "execute_result"
    }
   ],
   "source": [
    "pyarr[:10]"
   ]
  },
  {
   "cell_type": "code",
   "execution_count": 10,
   "id": "43fa510d",
   "metadata": {},
   "outputs": [
    {
     "data": {
      "text/plain": [
       "49987425"
      ]
     },
     "execution_count": 10,
     "metadata": {},
     "output_type": "execute_result"
    }
   ],
   "source": [
    "len([x for x in pyarr if x>5000])"
   ]
  },
  {
   "cell_type": "code",
   "execution_count": 11,
   "id": "d51a1c40",
   "metadata": {},
   "outputs": [
    {
     "name": "stdout",
     "output_type": "stream",
     "text": [
      "16.1 s ± 1.16 s per loop (mean ± std. dev. of 7 runs, 1 loop each)\n"
     ]
    }
   ],
   "source": [
    "%timeit len([x for x in pyarr if x>5000])"
   ]
  },
  {
   "cell_type": "markdown",
   "id": "3905b8d2",
   "metadata": {},
   "source": [
    "### 3.使用numpy向量化操作实现"
   ]
  },
  {
   "cell_type": "code",
   "execution_count": 12,
   "id": "404b3ae2",
   "metadata": {},
   "outputs": [
    {
     "data": {
      "text/plain": [
       "49987425"
      ]
     },
     "execution_count": 12,
     "metadata": {},
     "output_type": "execute_result"
    }
   ],
   "source": [
    "arr[arr>5000].size"
   ]
  },
  {
   "cell_type": "code",
   "execution_count": 13,
   "id": "f8c5c52f",
   "metadata": {},
   "outputs": [
    {
     "data": {
      "text/plain": [
       "array([False,  True,  True, False, False, False,  True, False, False,\n",
       "       False])"
      ]
     },
     "execution_count": 13,
     "metadata": {},
     "output_type": "execute_result"
    }
   ],
   "source": [
    "(arr>5000)[:10]"
   ]
  },
  {
   "cell_type": "code",
   "execution_count": 15,
   "id": "542adb9a",
   "metadata": {},
   "outputs": [
    {
     "data": {
      "text/plain": [
       "array([5056, 6569, 5705, 9016, 5123, 8307, 6861, 9002, 7427, 9703])"
      ]
     },
     "execution_count": 15,
     "metadata": {},
     "output_type": "execute_result"
    }
   ],
   "source": [
    "arr[arr>5000][:10]"
   ]
  },
  {
   "cell_type": "code",
   "execution_count": 16,
   "id": "514b7000",
   "metadata": {},
   "outputs": [
    {
     "name": "stdout",
     "output_type": "stream",
     "text": [
      "706 ms ± 11.2 ms per loop (mean ± std. dev. of 7 runs, 1 loop each)\n",
      "Compiler time: 0.31 s\n"
     ]
    }
   ],
   "source": [
    "%timeit arr[arr>5000].size"
   ]
  },
  {
   "cell_type": "markdown",
   "id": "b61c271e",
   "metadata": {},
   "source": [
    "### 4.对比时间"
   ]
  },
  {
   "cell_type": "code",
   "execution_count": 17,
   "id": "3f77dd46",
   "metadata": {},
   "outputs": [
    {
     "data": {
      "text/plain": [
       "22.804532577903686"
      ]
     },
     "execution_count": 17,
     "metadata": {},
     "output_type": "execute_result"
    }
   ],
   "source": [
    "16.1*1000/706"
   ]
  }
 ],
 "metadata": {
  "kernelspec": {
   "display_name": "Python 3",
   "language": "python",
   "name": "python3"
  },
  "language_info": {
   "codemirror_mode": {
    "name": "ipython",
    "version": 3
   },
   "file_extension": ".py",
   "mimetype": "text/x-python",
   "name": "python",
   "nbconvert_exporter": "python",
   "pygments_lexer": "ipython3",
   "version": "3.8.8"
  }
 },
 "nbformat": 4,
 "nbformat_minor": 5
}
