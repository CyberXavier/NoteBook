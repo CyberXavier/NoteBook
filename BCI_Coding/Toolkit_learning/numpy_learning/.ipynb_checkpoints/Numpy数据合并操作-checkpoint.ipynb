{
 "cells": [
  {
   "cell_type": "markdown",
   "id": "ddd0c159",
   "metadata": {},
   "source": [
    "## Numpy数组合并操作\n",
    "背景：在机器学习准备数据过程中，经常会将不同数据来源的数据合并\n",
    "\n",
    "两类场景：\n",
    "* 1.给已有的数据添加多行，比如增添一些样本数据进去。\n",
    "* 2.给已有的数据添加多列(增加列：增加样本特征)，比如增添一些特征进去。\n",
    "\n",
    "操作：\n",
    "* np.concatenate(array_list,axis=0/1)：沿着指定axis进行数据合并\n",
    "* np.vstack或者np.row_stack(array_list)：垂直vertically、按行row wise进行数据合并\n",
    "* np.hstack或者np.column_stack(array_list)：水平herizontally、按列column wise进行数据合并"
   ]
  },
  {
   "cell_type": "code",
   "execution_count": 2,
   "id": "b69a57fc",
   "metadata": {},
   "outputs": [],
   "source": [
    "import numpy as np"
   ]
  },
  {
   "cell_type": "code",
   "execution_count": 5,
   "id": "767d9cea",
   "metadata": {},
   "outputs": [],
   "source": [
    "# 1.怎么给数据添加新的多行\n",
    "a = np.arange(6).reshape(2,3)\n",
    "b = np.random.randint(10,20,size=(4,3))"
   ]
  },
  {
   "cell_type": "code",
   "execution_count": 6,
   "id": "aa932f9e",
   "metadata": {},
   "outputs": [
    {
     "data": {
      "text/plain": [
       "array([[0, 1, 2],\n",
       "       [3, 4, 5]])"
      ]
     },
     "execution_count": 6,
     "metadata": {},
     "output_type": "execute_result"
    }
   ],
   "source": [
    "a"
   ]
  },
  {
   "cell_type": "code",
   "execution_count": 7,
   "id": "8d80d249",
   "metadata": {},
   "outputs": [
    {
     "data": {
      "text/plain": [
       "array([[15, 14, 15],\n",
       "       [12, 10, 14],\n",
       "       [12, 16, 16],\n",
       "       [14, 13, 12]])"
      ]
     },
     "execution_count": 7,
     "metadata": {},
     "output_type": "execute_result"
    }
   ],
   "source": [
    "b"
   ]
  },
  {
   "cell_type": "code",
   "execution_count": 8,
   "id": "d91f78b2",
   "metadata": {},
   "outputs": [
    {
     "data": {
      "text/plain": [
       "array([[ 0,  1,  2],\n",
       "       [ 3,  4,  5],\n",
       "       [15, 14, 15],\n",
       "       [12, 10, 14],\n",
       "       [12, 16, 16],\n",
       "       [14, 13, 12]])"
      ]
     },
     "execution_count": 8,
     "metadata": {},
     "output_type": "execute_result"
    }
   ],
   "source": [
    "# 方法一\n",
    "np.concatenate([a,b],axis=0)"
   ]
  },
  {
   "cell_type": "code",
   "execution_count": 9,
   "id": "ae0965dc",
   "metadata": {},
   "outputs": [
    {
     "data": {
      "text/plain": [
       "array([[ 0,  1,  2],\n",
       "       [ 3,  4,  5],\n",
       "       [15, 14, 15],\n",
       "       [12, 10, 14],\n",
       "       [12, 16, 16],\n",
       "       [14, 13, 12]])"
      ]
     },
     "execution_count": 9,
     "metadata": {},
     "output_type": "execute_result"
    }
   ],
   "source": [
    "#方法二\n",
    "np.vstack([a,b])"
   ]
  },
  {
   "cell_type": "code",
   "execution_count": 10,
   "id": "040e1b5f",
   "metadata": {},
   "outputs": [
    {
     "data": {
      "text/plain": [
       "array([[ 0,  1,  2],\n",
       "       [ 3,  4,  5],\n",
       "       [15, 14, 15],\n",
       "       [12, 10, 14],\n",
       "       [12, 16, 16],\n",
       "       [14, 13, 12]])"
      ]
     },
     "execution_count": 10,
     "metadata": {},
     "output_type": "execute_result"
    }
   ],
   "source": [
    "#方法三\n",
    "np.row_stack([a,b])"
   ]
  },
  {
   "cell_type": "code",
   "execution_count": 11,
   "id": "ec8f1f34",
   "metadata": {},
   "outputs": [],
   "source": [
    "# 2.添加新的列\n",
    "a = np.arange(12).reshape(3,4)\n",
    "b = np.random.randint(20,40,size=(3,2))"
   ]
  },
  {
   "cell_type": "code",
   "execution_count": 12,
   "id": "61eb7276",
   "metadata": {},
   "outputs": [
    {
     "data": {
      "text/plain": [
       "array([[ 0,  1,  2,  3],\n",
       "       [ 4,  5,  6,  7],\n",
       "       [ 8,  9, 10, 11]])"
      ]
     },
     "execution_count": 12,
     "metadata": {},
     "output_type": "execute_result"
    }
   ],
   "source": [
    "a"
   ]
  },
  {
   "cell_type": "code",
   "execution_count": 13,
   "id": "63a5df2b",
   "metadata": {},
   "outputs": [
    {
     "data": {
      "text/plain": [
       "array([[32, 28],\n",
       "       [30, 30],\n",
       "       [32, 37]])"
      ]
     },
     "execution_count": 13,
     "metadata": {},
     "output_type": "execute_result"
    }
   ],
   "source": [
    "b"
   ]
  },
  {
   "cell_type": "code",
   "execution_count": 14,
   "id": "ea153d9f",
   "metadata": {},
   "outputs": [
    {
     "data": {
      "text/plain": [
       "array([[ 0,  1,  2,  3, 32, 28],\n",
       "       [ 4,  5,  6,  7, 30, 30],\n",
       "       [ 8,  9, 10, 11, 32, 37]])"
      ]
     },
     "execution_count": 14,
     "metadata": {},
     "output_type": "execute_result"
    }
   ],
   "source": [
    "np.concatenate([a,b],axis=1)"
   ]
  },
  {
   "cell_type": "code",
   "execution_count": 15,
   "id": "7b53223d",
   "metadata": {},
   "outputs": [
    {
     "data": {
      "text/plain": [
       "array([[ 0,  1,  2,  3, 32, 28],\n",
       "       [ 4,  5,  6,  7, 30, 30],\n",
       "       [ 8,  9, 10, 11, 32, 37]])"
      ]
     },
     "execution_count": 15,
     "metadata": {},
     "output_type": "execute_result"
    }
   ],
   "source": [
    "np.hstack([a,b])"
   ]
  },
  {
   "cell_type": "code",
   "execution_count": 16,
   "id": "20a2e989",
   "metadata": {},
   "outputs": [
    {
     "data": {
      "text/plain": [
       "array([[ 0,  1,  2,  3, 32, 28],\n",
       "       [ 4,  5,  6,  7, 30, 30],\n",
       "       [ 8,  9, 10, 11, 32, 37]])"
      ]
     },
     "execution_count": 16,
     "metadata": {},
     "output_type": "execute_result"
    }
   ],
   "source": [
    "np.column_stack([a,b])"
   ]
  }
 ],
 "metadata": {
  "kernelspec": {
   "display_name": "Python 3",
   "language": "python",
   "name": "python3"
  },
  "language_info": {
   "codemirror_mode": {
    "name": "ipython",
    "version": 3
   },
   "file_extension": ".py",
   "mimetype": "text/x-python",
   "name": "python",
   "nbconvert_exporter": "python",
   "pygments_lexer": "ipython3",
   "version": "3.8.8"
  }
 },
 "nbformat": 4,
 "nbformat_minor": 5
}
