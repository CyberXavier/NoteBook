{
 "cells": [
  {
   "cell_type": "markdown",
   "id": "ccbbe511",
   "metadata": {},
   "source": [
    "## Numpy怎样给数组怎加一个维度\n",
    "* 背景：\n",
    "对于一维的数据输入为了形状匹配，经常需升维变成二维。\n",
    "\n",
    "* 需要：\n",
    "在不改变数据的情况下，添加数组维度；\n",
    "> 原始数组：一维数组arr=[1,2,3,4] ,shape(4,),取值分别为arr[0],arr[1],arr[2],arr[3]。\n",
    "> 变形数组：二维数组arr=[[1,2,3,4]],其shape(1,4),取值分别为arr[0,0],arr[0,1],arr[0,2],arr[0,3]\n",
    "\n",
    "* 实操：\n",
    "经常需要在纸上手绘数组的形状，来查看不同数组是否形状匹配，是否要升维降维\n",
    "\n",
    "**3种方法**\n",
    "* np.newaxis: 关键字，使用索引的语法给数组添加维度\n",
    "* np.expand_dims(arr,axis): 方法，和np.newaxis实现一样的功能，给arr在axis位置添加维度\n",
    "* np.reshape(a,newshape): 给一个维度设置为1，完成升维"
   ]
  },
  {
   "cell_type": "code",
   "execution_count": 10,
   "id": "aa574d41",
   "metadata": {},
   "outputs": [
    {
     "data": {
      "text/plain": [
       "array([0, 1, 2, 3, 4])"
      ]
     },
     "execution_count": 10,
     "metadata": {},
     "output_type": "execute_result"
    }
   ],
   "source": [
    "import numpy as np\n",
    "arr = np.arange(5)\n",
    "arr"
   ]
  },
  {
   "cell_type": "code",
   "execution_count": 2,
   "id": "b34c2dfc",
   "metadata": {},
   "outputs": [
    {
     "data": {
      "text/plain": [
       "True"
      ]
     },
     "execution_count": 2,
     "metadata": {},
     "output_type": "execute_result"
    }
   ],
   "source": [
    "np.newaxis is None"
   ]
  },
  {
   "cell_type": "code",
   "execution_count": 3,
   "id": "a6468476",
   "metadata": {},
   "outputs": [
    {
     "data": {
      "text/plain": [
       "True"
      ]
     },
     "execution_count": 3,
     "metadata": {},
     "output_type": "execute_result"
    }
   ],
   "source": [
    "np.newaxis == None"
   ]
  },
  {
   "cell_type": "markdown",
   "id": "afac736c",
   "metadata": {},
   "source": [
    "### 给一维向量添加一个行维度"
   ]
  },
  {
   "cell_type": "code",
   "execution_count": 17,
   "id": "67783249",
   "metadata": {},
   "outputs": [
    {
     "data": {
      "text/plain": [
       "array([[0, 1, 2, 3, 4]])"
      ]
     },
     "execution_count": 17,
     "metadata": {},
     "output_type": "execute_result"
    }
   ],
   "source": [
    "arr[np.newaxis,:]"
   ]
  },
  {
   "cell_type": "code",
   "execution_count": 16,
   "id": "7be448ce",
   "metadata": {},
   "outputs": [
    {
     "data": {
      "text/plain": [
       "(1, 5)"
      ]
     },
     "execution_count": 16,
     "metadata": {},
     "output_type": "execute_result"
    }
   ],
   "source": [
    "arr[np.newaxis,:].shape"
   ]
  },
  {
   "cell_type": "markdown",
   "id": "5806b5b4",
   "metadata": {},
   "source": []
  },
  {
   "cell_type": "markdown",
   "id": "0b191d41",
   "metadata": {},
   "source": [
    "### 给一维向量添加一个列维度"
   ]
  },
  {
   "cell_type": "code",
   "execution_count": 19,
   "id": "2a73524f",
   "metadata": {},
   "outputs": [
    {
     "data": {
      "text/plain": [
       "array([[0],\n",
       "       [1],\n",
       "       [2],\n",
       "       [3],\n",
       "       [4]])"
      ]
     },
     "execution_count": 19,
     "metadata": {},
     "output_type": "execute_result"
    }
   ],
   "source": [
    "arr[:,np.newaxis]"
   ]
  },
  {
   "cell_type": "code",
   "execution_count": 20,
   "id": "b30fd3df",
   "metadata": {},
   "outputs": [
    {
     "data": {
      "text/plain": [
       "(5, 1)"
      ]
     },
     "execution_count": 20,
     "metadata": {},
     "output_type": "execute_result"
    }
   ],
   "source": [
    "arr[:,np.newaxis].shape"
   ]
  },
  {
   "cell_type": "markdown",
   "id": "176b6ac3",
   "metadata": {},
   "source": [
    "## 方法二：np.expand_dims方法\n",
    "实现效果和np.newaxis一样"
   ]
  },
  {
   "cell_type": "code",
   "execution_count": 21,
   "id": "23a7dc04",
   "metadata": {},
   "outputs": [
    {
     "data": {
      "text/plain": [
       "array([0, 1, 2, 3, 4])"
      ]
     },
     "execution_count": 21,
     "metadata": {},
     "output_type": "execute_result"
    }
   ],
   "source": [
    "arr"
   ]
  },
  {
   "cell_type": "code",
   "execution_count": 23,
   "id": "661b2c60",
   "metadata": {},
   "outputs": [
    {
     "data": {
      "text/plain": [
       "array([[0, 1, 2, 3, 4]])"
      ]
     },
     "execution_count": 23,
     "metadata": {},
     "output_type": "execute_result"
    }
   ],
   "source": [
    "# 给行添加一维\n",
    "np.expand_dims(arr,axis=0)"
   ]
  },
  {
   "cell_type": "code",
   "execution_count": 24,
   "id": "27bfbbfd",
   "metadata": {},
   "outputs": [
    {
     "data": {
      "text/plain": [
       "(1, 5)"
      ]
     },
     "execution_count": 24,
     "metadata": {},
     "output_type": "execute_result"
    }
   ],
   "source": [
    "np.expand_dims(arr,axis=0).shape"
   ]
  },
  {
   "cell_type": "code",
   "execution_count": 25,
   "id": "661d5875",
   "metadata": {},
   "outputs": [
    {
     "data": {
      "text/plain": [
       "array([[0],\n",
       "       [1],\n",
       "       [2],\n",
       "       [3],\n",
       "       [4]])"
      ]
     },
     "execution_count": 25,
     "metadata": {},
     "output_type": "execute_result"
    }
   ],
   "source": [
    "# 给列添加一维\n",
    "np.expand_dims(arr,axis=1)"
   ]
  },
  {
   "cell_type": "markdown",
   "id": "262109a6",
   "metadata": {},
   "source": [
    "## 方法三：np.reshape方法"
   ]
  },
  {
   "cell_type": "code",
   "execution_count": 27,
   "id": "de54c31b",
   "metadata": {},
   "outputs": [
    {
     "data": {
      "text/plain": [
       "array([0, 1, 2, 3, 4])"
      ]
     },
     "execution_count": 27,
     "metadata": {},
     "output_type": "execute_result"
    }
   ],
   "source": [
    "# 给行添加一个维度\n",
    "arr"
   ]
  },
  {
   "cell_type": "code",
   "execution_count": 28,
   "id": "23d436b2",
   "metadata": {},
   "outputs": [
    {
     "data": {
      "text/plain": [
       "array([[0, 1, 2, 3, 4]])"
      ]
     },
     "execution_count": 28,
     "metadata": {},
     "output_type": "execute_result"
    }
   ],
   "source": [
    "np.reshape(arr,(1,5))"
   ]
  },
  {
   "cell_type": "code",
   "execution_count": 30,
   "id": "565f28b1",
   "metadata": {},
   "outputs": [
    {
     "data": {
      "text/plain": [
       "(1, 5)"
      ]
     },
     "execution_count": 30,
     "metadata": {},
     "output_type": "execute_result"
    }
   ],
   "source": [
    "np.reshape(arr,(1,5)).shape"
   ]
  },
  {
   "cell_type": "code",
   "execution_count": 31,
   "id": "65024c0b",
   "metadata": {},
   "outputs": [
    {
     "data": {
      "text/plain": [
       "(1, 5)"
      ]
     },
     "execution_count": 31,
     "metadata": {},
     "output_type": "execute_result"
    }
   ],
   "source": [
    "np.reshape(arr,(1,-1))\n",
    "np.reshape(arr,(1,-1)).shape"
   ]
  },
  {
   "cell_type": "code",
   "execution_count": 33,
   "id": "8cf61736",
   "metadata": {},
   "outputs": [
    {
     "data": {
      "text/plain": [
       "array([[0, 1, 2, 3, 4]])"
      ]
     },
     "execution_count": 33,
     "metadata": {},
     "output_type": "execute_result"
    }
   ],
   "source": [
    "np.reshape(arr,(1,-1))"
   ]
  },
  {
   "cell_type": "code",
   "execution_count": 34,
   "id": "ae9ef0f9",
   "metadata": {},
   "outputs": [
    {
     "data": {
      "text/plain": [
       "array([[0],\n",
       "       [1],\n",
       "       [2],\n",
       "       [3],\n",
       "       [4]])"
      ]
     },
     "execution_count": 34,
     "metadata": {},
     "output_type": "execute_result"
    }
   ],
   "source": [
    "# 添加一个列的维度\n",
    "np.reshape(arr,(-1,1))"
   ]
  },
  {
   "cell_type": "code",
   "execution_count": 35,
   "id": "93a8f786",
   "metadata": {},
   "outputs": [
    {
     "data": {
      "text/plain": [
       "(5, 1)"
      ]
     },
     "execution_count": 35,
     "metadata": {},
     "output_type": "execute_result"
    }
   ],
   "source": [
    "np.reshape(arr,(-1,1)).shape"
   ]
  }
 ],
 "metadata": {
  "kernelspec": {
   "display_name": "Python 3",
   "language": "python",
   "name": "python3"
  },
  "language_info": {
   "codemirror_mode": {
    "name": "ipython",
    "version": 3
   },
   "file_extension": ".py",
   "mimetype": "text/x-python",
   "name": "python",
   "nbconvert_exporter": "python",
   "pygments_lexer": "ipython3",
   "version": "3.8.8"
  }
 },
 "nbformat": 4,
 "nbformat_minor": 5
}
