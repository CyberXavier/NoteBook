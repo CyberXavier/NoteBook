{
 "cells": [
  {
   "cell_type": "markdown",
   "id": "fd9211b7",
   "metadata": {},
   "source": [
    "## 普通索引"
   ]
  },
  {
   "cell_type": "markdown",
   "id": "475280b1",
   "metadata": {},
   "source": [
    "### numpy中切片会直接改变原数组中的值\n",
    "**原因：numpy经常要处理大数据，避免每次都重复所以这样设计**"
   ]
  },
  {
   "cell_type": "code",
   "execution_count": 1,
   "id": "fbc5f5da",
   "metadata": {},
   "outputs": [],
   "source": [
    "import numpy as np"
   ]
  },
  {
   "cell_type": "code",
   "execution_count": 2,
   "id": "91985dd2",
   "metadata": {},
   "outputs": [],
   "source": [
    "x = np.arange(10)"
   ]
  },
  {
   "cell_type": "code",
   "execution_count": 3,
   "id": "6b27183e",
   "metadata": {},
   "outputs": [],
   "source": [
    "X = np.arange(20).reshape(4,5)"
   ]
  },
  {
   "cell_type": "code",
   "execution_count": 4,
   "id": "1b40df62",
   "metadata": {},
   "outputs": [
    {
     "data": {
      "text/plain": [
       "array([0, 1, 2, 3, 4, 5, 6, 7, 8, 9])"
      ]
     },
     "execution_count": 4,
     "metadata": {},
     "output_type": "execute_result"
    }
   ],
   "source": [
    "x"
   ]
  },
  {
   "cell_type": "code",
   "execution_count": 5,
   "id": "e90abd17",
   "metadata": {},
   "outputs": [
    {
     "data": {
      "text/plain": [
       "array([[ 0,  1,  2,  3,  4],\n",
       "       [ 5,  6,  7,  8,  9],\n",
       "       [10, 11, 12, 13, 14],\n",
       "       [15, 16, 17, 18, 19]])"
      ]
     },
     "execution_count": 5,
     "metadata": {},
     "output_type": "execute_result"
    }
   ],
   "source": [
    "X"
   ]
  },
  {
   "cell_type": "code",
   "execution_count": 6,
   "id": "194770e8",
   "metadata": {},
   "outputs": [
    {
     "data": {
      "text/plain": [
       "array([  0,   1, 666, 666,   4,   5,   6,   7,   8,   9])"
      ]
     },
     "execution_count": 6,
     "metadata": {},
     "output_type": "execute_result"
    }
   ],
   "source": [
    "x[2:4] = 666\n",
    "x"
   ]
  },
  {
   "cell_type": "code",
   "execution_count": 7,
   "id": "f2c91dec",
   "metadata": {},
   "outputs": [
    {
     "data": {
      "text/plain": [
       "array([[666, 666,   2,   3,   4],\n",
       "       [  5,   6,   7,   8,   9],\n",
       "       [ 10,  11,  12,  13,  14],\n",
       "       [ 15,  16,  17,  18,  19]])"
      ]
     },
     "execution_count": 7,
     "metadata": {},
     "output_type": "execute_result"
    }
   ],
   "source": [
    "X[:1,:2] = 666\n",
    "X"
   ]
  },
  {
   "cell_type": "markdown",
   "id": "eac15242",
   "metadata": {},
   "source": [
    "## 神奇索引\n",
    "***其实就是：使用整数数组进行索引***"
   ]
  },
  {
   "cell_type": "markdown",
   "id": "0e9eaf88",
   "metadata": {},
   "source": [
    "### 一维数组\n",
    "**注意：一维数组可以通过二维整数数组删选出一个新的二维数组**"
   ]
  },
  {
   "cell_type": "code",
   "execution_count": 8,
   "id": "0e7aaade",
   "metadata": {},
   "outputs": [],
   "source": [
    "x = np.arange(10)"
   ]
  },
  {
   "cell_type": "code",
   "execution_count": 9,
   "id": "f15e88a5",
   "metadata": {},
   "outputs": [
    {
     "data": {
      "text/plain": [
       "array([0, 1, 2, 3, 4, 5, 6, 7, 8, 9])"
      ]
     },
     "execution_count": 9,
     "metadata": {},
     "output_type": "execute_result"
    }
   ],
   "source": [
    "x"
   ]
  },
  {
   "cell_type": "code",
   "execution_count": 10,
   "id": "7fd56492",
   "metadata": {},
   "outputs": [
    {
     "data": {
      "text/plain": [
       "2"
      ]
     },
     "execution_count": 10,
     "metadata": {},
     "output_type": "execute_result"
    }
   ],
   "source": [
    "x[2]"
   ]
  },
  {
   "cell_type": "code",
   "execution_count": 11,
   "id": "5709ad3a",
   "metadata": {},
   "outputs": [
    {
     "data": {
      "text/plain": [
       "array([2, 3, 4])"
      ]
     },
     "execution_count": 11,
     "metadata": {},
     "output_type": "execute_result"
    }
   ],
   "source": [
    "x[[2,3,4]]"
   ]
  },
  {
   "cell_type": "code",
   "execution_count": 12,
   "id": "f41dd22a",
   "metadata": {},
   "outputs": [
    {
     "data": {
      "text/plain": [
       "array([[0, 2],\n",
       "       [4, 6]])"
      ]
     },
     "execution_count": 12,
     "metadata": {},
     "output_type": "execute_result"
    }
   ],
   "source": [
    "indexs = np.array([[0,2],[4,6]])\n",
    "x[indexs]"
   ]
  },
  {
   "cell_type": "markdown",
   "id": "29ee9627",
   "metadata": {},
   "source": [
    "### 实例：获取数组中最大的前N个数"
   ]
  },
  {
   "cell_type": "code",
   "execution_count": 13,
   "id": "8540bc43",
   "metadata": {},
   "outputs": [
    {
     "data": {
      "text/plain": [
       "array([42, 68, 64, 76, 99, 50, 14, 30, 24, 24])"
      ]
     },
     "execution_count": 13,
     "metadata": {},
     "output_type": "execute_result"
    }
   ],
   "source": [
    "arr = np.random.randint(1,100,10)\n",
    "arr"
   ]
  },
  {
   "cell_type": "markdown",
   "id": "35f561dd",
   "metadata": {},
   "source": [
    "**argsort()排序**"
   ]
  },
  {
   "cell_type": "code",
   "execution_count": 14,
   "id": "257a665f",
   "metadata": {},
   "outputs": [
    {
     "data": {
      "text/plain": [
       "array([1, 3, 4], dtype=int64)"
      ]
     },
     "execution_count": 14,
     "metadata": {},
     "output_type": "execute_result"
    }
   ],
   "source": [
    "# 排序之后输出最大的3个数的下标\n",
    "arr.argsort()[-3:]"
   ]
  },
  {
   "cell_type": "code",
   "execution_count": 15,
   "id": "ecc1d358",
   "metadata": {},
   "outputs": [
    {
     "data": {
      "text/plain": [
       "array([68, 76, 99])"
      ]
     },
     "execution_count": 15,
     "metadata": {},
     "output_type": "execute_result"
    }
   ],
   "source": [
    "arr[arr.argsort()[-3:]]"
   ]
  },
  {
   "cell_type": "markdown",
   "id": "3343a0ef",
   "metadata": {},
   "source": [
    "## 二维数组"
   ]
  },
  {
   "cell_type": "code",
   "execution_count": 16,
   "id": "e9431962",
   "metadata": {},
   "outputs": [
    {
     "data": {
      "text/plain": [
       "array([[ 0,  1,  2,  3,  4],\n",
       "       [ 5,  6,  7,  8,  9],\n",
       "       [10, 11, 12, 13, 14],\n",
       "       [15, 16, 17, 18, 19]])"
      ]
     },
     "execution_count": 16,
     "metadata": {},
     "output_type": "execute_result"
    }
   ],
   "source": [
    "X = np.arange(20).reshape(4,5)\n",
    "X"
   ]
  },
  {
   "cell_type": "code",
   "execution_count": 17,
   "id": "512c0722",
   "metadata": {},
   "outputs": [
    {
     "data": {
      "text/plain": [
       "array([[ 0,  1,  2,  3,  4],\n",
       "       [15, 16, 17, 18, 19]])"
      ]
     },
     "execution_count": 17,
     "metadata": {},
     "output_type": "execute_result"
    }
   ],
   "source": [
    "X[[0,3]]"
   ]
  },
  {
   "cell_type": "code",
   "execution_count": 18,
   "id": "73ebf7e4",
   "metadata": {},
   "outputs": [
    {
     "ename": "IndexError",
     "evalue": "shape mismatch: indexing arrays could not be broadcast together with shapes (2,) (3,) ",
     "output_type": "error",
     "traceback": [
      "\u001b[1;31m---------------------------------------------------------------------------\u001b[0m",
      "\u001b[1;31mIndexError\u001b[0m                                Traceback (most recent call last)",
      "\u001b[1;32m<ipython-input-18-ce08f20e5c8a>\u001b[0m in \u001b[0;36m<module>\u001b[1;34m\u001b[0m\n\u001b[1;32m----> 1\u001b[1;33m \u001b[0mX\u001b[0m\u001b[1;33m[\u001b[0m\u001b[1;33m[\u001b[0m\u001b[1;36m0\u001b[0m\u001b[1;33m,\u001b[0m\u001b[1;36m2\u001b[0m\u001b[1;33m]\u001b[0m\u001b[1;33m,\u001b[0m\u001b[1;33m[\u001b[0m\u001b[1;36m0\u001b[0m\u001b[1;33m,\u001b[0m\u001b[1;36m1\u001b[0m\u001b[1;33m,\u001b[0m\u001b[1;36m2\u001b[0m\u001b[1;33m]\u001b[0m\u001b[1;33m]\u001b[0m\u001b[1;33m\u001b[0m\u001b[1;33m\u001b[0m\u001b[0m\n\u001b[0m",
      "\u001b[1;31mIndexError\u001b[0m: shape mismatch: indexing arrays could not be broadcast together with shapes (2,) (3,) "
     ]
    }
   ],
   "source": [
    "X[[0,2],[0,1,2]]"
   ]
  },
  {
   "cell_type": "code",
   "execution_count": 21,
   "id": "e9d7cd0a",
   "metadata": {},
   "outputs": [
    {
     "data": {
      "text/plain": [
       "array([ 2,  8, 14])"
      ]
     },
     "execution_count": 21,
     "metadata": {},
     "output_type": "execute_result"
    }
   ],
   "source": [
    "# 同时指定行列，返回的则是(0,2),(1,3),(2,4)\n",
    "X[[0,1,2],[2,3,4]]"
   ]
  },
  {
   "cell_type": "code",
   "execution_count": 19,
   "id": "f7fe731d",
   "metadata": {},
   "outputs": [
    {
     "data": {
      "text/plain": [
       "array([[ 0,  1,  2,  3,  4],\n",
       "       [10, 11, 12, 13, 14]])"
      ]
     },
     "execution_count": 19,
     "metadata": {},
     "output_type": "execute_result"
    }
   ],
   "source": [
    "# 筛选第0行和第2行的所有列\n",
    "X[[0,2],:]"
   ]
  },
  {
   "cell_type": "code",
   "execution_count": 20,
   "id": "84c8cd9a",
   "metadata": {},
   "outputs": [
    {
     "data": {
      "text/plain": [
       "array([[11, 12, 13],\n",
       "       [16, 17, 18]])"
      ]
     },
     "execution_count": 20,
     "metadata": {},
     "output_type": "execute_result"
    }
   ],
   "source": [
    "#筛选倒数两行，中的1，2，3列\n",
    "X[-2:,[1,2,3]]"
   ]
  },
  {
   "cell_type": "markdown",
   "id": "88c92365",
   "metadata": {},
   "source": [
    "## 布尔索引"
   ]
  },
  {
   "cell_type": "code",
   "execution_count": 25,
   "id": "ef7b2e26",
   "metadata": {},
   "outputs": [],
   "source": [
    "# 一维数组\n",
    "x = np.arange(10)"
   ]
  },
  {
   "cell_type": "code",
   "execution_count": 26,
   "id": "d22e968b",
   "metadata": {},
   "outputs": [
    {
     "data": {
      "text/plain": [
       "array([0, 1, 2, 3, 4, 5, 6, 7, 8, 9])"
      ]
     },
     "execution_count": 26,
     "metadata": {},
     "output_type": "execute_result"
    }
   ],
   "source": [
    "x"
   ]
  },
  {
   "cell_type": "code",
   "execution_count": 27,
   "id": "4820093b",
   "metadata": {},
   "outputs": [
    {
     "data": {
      "text/plain": [
       "array([False, False, False, False, False, False,  True,  True,  True,\n",
       "        True])"
      ]
     },
     "execution_count": 27,
     "metadata": {},
     "output_type": "execute_result"
    }
   ],
   "source": [
    "x>5"
   ]
  },
  {
   "cell_type": "code",
   "execution_count": 28,
   "id": "54acb4a0",
   "metadata": {},
   "outputs": [
    {
     "data": {
      "text/plain": [
       "array([6, 7, 8, 9])"
      ]
     },
     "execution_count": 28,
     "metadata": {},
     "output_type": "execute_result"
    }
   ],
   "source": [
    "x[x>5]"
   ]
  },
  {
   "cell_type": "code",
   "execution_count": 29,
   "id": "5e32ced5",
   "metadata": {},
   "outputs": [],
   "source": [
    "#示例：把一维数组进行01化处理。比如：把房价数字变成，“高房价：1”，“低房价：0”"
   ]
  },
  {
   "cell_type": "code",
   "execution_count": 30,
   "id": "f62f2b21",
   "metadata": {},
   "outputs": [
    {
     "data": {
      "text/plain": [
       "array([0, 0, 0, 0, 0, 0, 1, 1, 1, 1])"
      ]
     },
     "execution_count": 30,
     "metadata": {},
     "output_type": "execute_result"
    }
   ],
   "source": [
    "x[x<=5] = 0\n",
    "x[x>5] = 1\n",
    "x"
   ]
  },
  {
   "cell_type": "code",
   "execution_count": 31,
   "id": "5acd0f2d",
   "metadata": {},
   "outputs": [
    {
     "data": {
      "text/plain": [
       "array([20, 21, 22, 23, 24,  5,  6,  7,  8,  9])"
      ]
     },
     "execution_count": 31,
     "metadata": {},
     "output_type": "execute_result"
    }
   ],
   "source": [
    "x = np.arange(10)\n",
    "x[x<5] += 20\n",
    "x"
   ]
  },
  {
   "cell_type": "markdown",
   "id": "b307a975",
   "metadata": {},
   "source": [
    "**二维数组**"
   ]
  },
  {
   "cell_type": "code",
   "execution_count": 32,
   "id": "184efa8a",
   "metadata": {},
   "outputs": [],
   "source": [
    "X = np.arange(20).reshape(4,5)"
   ]
  },
  {
   "cell_type": "code",
   "execution_count": 33,
   "id": "6e4e88d3",
   "metadata": {},
   "outputs": [
    {
     "data": {
      "text/plain": [
       "array([[ 0,  1,  2,  3,  4],\n",
       "       [ 5,  6,  7,  8,  9],\n",
       "       [10, 11, 12, 13, 14],\n",
       "       [15, 16, 17, 18, 19]])"
      ]
     },
     "execution_count": 33,
     "metadata": {},
     "output_type": "execute_result"
    }
   ],
   "source": [
    "X"
   ]
  },
  {
   "cell_type": "code",
   "execution_count": 35,
   "id": "b0fc927c",
   "metadata": {},
   "outputs": [
    {
     "data": {
      "text/plain": [
       "array([[ True,  True,  True,  True,  True],\n",
       "       [False, False, False, False, False],\n",
       "       [False, False, False, False, False],\n",
       "       [False, False, False, False, False]])"
      ]
     },
     "execution_count": 35,
     "metadata": {},
     "output_type": "execute_result"
    }
   ],
   "source": [
    "X<5"
   ]
  },
  {
   "cell_type": "code",
   "execution_count": 36,
   "id": "8834e950",
   "metadata": {},
   "outputs": [
    {
     "data": {
      "text/plain": [
       "array([ 6,  7,  8,  9, 10, 11, 12, 13, 14, 15, 16, 17, 18, 19])"
      ]
     },
     "execution_count": 36,
     "metadata": {},
     "output_type": "execute_result"
    }
   ],
   "source": [
    "# X>5的boolean数组，既有行又有列，且返回的结果不一定能构成多维的矩阵，因此返回的是(行，列)一维结果\n",
    "X[X>5]"
   ]
  },
  {
   "cell_type": "code",
   "execution_count": 37,
   "id": "0ceaa5c7",
   "metadata": {},
   "outputs": [
    {
     "data": {
      "text/plain": [
       "array([ 3,  8, 13, 18])"
      ]
     },
     "execution_count": 37,
     "metadata": {},
     "output_type": "execute_result"
    }
   ],
   "source": [
    "# 如何把第三列大于5的数字删选出来\n",
    "X[:,3]"
   ]
  },
  {
   "cell_type": "code",
   "execution_count": 38,
   "id": "899c954f",
   "metadata": {},
   "outputs": [
    {
     "data": {
      "text/plain": [
       "array([False,  True,  True,  True])"
      ]
     },
     "execution_count": 38,
     "metadata": {},
     "output_type": "execute_result"
    }
   ],
   "source": [
    "X[:,3]>5"
   ]
  },
  {
   "cell_type": "code",
   "execution_count": 39,
   "id": "12589d2e",
   "metadata": {},
   "outputs": [
    {
     "ename": "SyntaxError",
     "evalue": "invalid syntax (<ipython-input-39-15388309c421>, line 1)",
     "output_type": "error",
     "traceback": [
      "\u001b[1;36m  File \u001b[1;32m\"<ipython-input-39-15388309c421>\"\u001b[1;36m, line \u001b[1;32m1\u001b[0m\n\u001b[1;33m    X[[:,3]>5]\u001b[0m\n\u001b[1;37m       ^\u001b[0m\n\u001b[1;31mSyntaxError\u001b[0m\u001b[1;31m:\u001b[0m invalid syntax\n"
     ]
    }
   ],
   "source": [
    "X[[:,3]>5]"
   ]
  },
  {
   "cell_type": "code",
   "execution_count": 40,
   "id": "1c83252d",
   "metadata": {},
   "outputs": [
    {
     "data": {
      "text/plain": [
       "array([[ 5,  6,  7,  8,  9],\n",
       "       [10, 11, 12, 13, 14],\n",
       "       [15, 16, 17, 18, 19]])"
      ]
     },
     "execution_count": 40,
     "metadata": {},
     "output_type": "execute_result"
    }
   ],
   "source": [
    "#这里是按照行删选的,第三列大于5的行输出\n",
    "X[X[:,3]>5]"
   ]
  },
  {
   "cell_type": "markdown",
   "id": "7ca80b48",
   "metadata": {},
   "source": [
    "**条件组合**"
   ]
  },
  {
   "cell_type": "code",
   "execution_count": 43,
   "id": "530e5a61",
   "metadata": {},
   "outputs": [
    {
     "data": {
      "text/plain": [
       "array([0, 1, 2, 3, 4, 5, 6, 7, 8, 9])"
      ]
     },
     "execution_count": 43,
     "metadata": {},
     "output_type": "execute_result"
    }
   ],
   "source": [
    "x = np.arange(10)\n",
    "x"
   ]
  },
  {
   "cell_type": "code",
   "execution_count": 44,
   "id": "17a79dbf",
   "metadata": {},
   "outputs": [
    {
     "data": {
      "text/plain": [
       "array([ True, False,  True, False,  True, False,  True, False,  True,\n",
       "        True])"
      ]
     },
     "execution_count": 44,
     "metadata": {},
     "output_type": "execute_result"
    }
   ],
   "source": [
    "condition = (x%2==0)|(x>7)\n",
    "condition"
   ]
  },
  {
   "cell_type": "code",
   "execution_count": 45,
   "id": "ad689660",
   "metadata": {},
   "outputs": [
    {
     "data": {
      "text/plain": [
       "array([0, 2, 4, 6, 8, 9])"
      ]
     },
     "execution_count": 45,
     "metadata": {},
     "output_type": "execute_result"
    }
   ],
   "source": [
    "x[condition]"
   ]
  }
 ],
 "metadata": {
  "kernelspec": {
   "display_name": "Python 3",
   "language": "python",
   "name": "python3"
  },
  "language_info": {
   "codemirror_mode": {
    "name": "ipython",
    "version": 3
   },
   "file_extension": ".py",
   "mimetype": "text/x-python",
   "name": "python",
   "nbconvert_exporter": "python",
   "pygments_lexer": "ipython3",
   "version": "3.8.8"
  }
 },
 "nbformat": 4,
 "nbformat_minor": 5
}
