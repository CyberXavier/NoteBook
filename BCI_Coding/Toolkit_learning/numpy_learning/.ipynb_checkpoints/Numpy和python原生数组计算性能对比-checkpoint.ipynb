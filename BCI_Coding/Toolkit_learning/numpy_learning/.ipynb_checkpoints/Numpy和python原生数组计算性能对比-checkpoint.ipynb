{
 "cells": [
  {
   "cell_type": "markdown",
   "id": "61d5099b",
   "metadata": {},
   "source": [
    "# Numpy 和 原生python用于数组计算对比\n",
    "\n",
    "* 实现两个数组的加法\n",
    "* 数组A是1-N数字的平方\n",
    "* 数组B是1-N数字的立方\n"
   ]
  },
  {
   "cell_type": "code",
   "execution_count": 2,
   "id": "5df067fd",
   "metadata": {},
   "outputs": [],
   "source": [
    "import numpy as np"
   ]
  },
  {
   "cell_type": "code",
   "execution_count": 3,
   "id": "9f699248",
   "metadata": {},
   "outputs": [
    {
     "data": {
      "text/plain": [
       "'1.20.1'"
      ]
     },
     "execution_count": 3,
     "metadata": {},
     "output_type": "execute_result"
    }
   ],
   "source": [
    "np.__version__"
   ]
  },
  {
   "cell_type": "markdown",
   "id": "c8d1e23a",
   "metadata": {},
   "source": [
    "## python实现"
   ]
  },
  {
   "cell_type": "code",
   "execution_count": 4,
   "id": "6c0e8506",
   "metadata": {},
   "outputs": [],
   "source": [
    "def python_sum(n):\n",
    "    a = [i**2 for i in range(n)]\n",
    "    b = [i**3 for i in range(n)]\n",
    "    c = []\n",
    "    for i in range(n):\n",
    "        c.append(a[i]+b[i])\n",
    "    return c"
   ]
  },
  {
   "cell_type": "code",
   "execution_count": 5,
   "id": "a4928cd9",
   "metadata": {},
   "outputs": [
    {
     "data": {
      "text/plain": [
       "[0, 2, 12, 36, 80, 150, 252, 392, 576, 810]"
      ]
     },
     "execution_count": 5,
     "metadata": {},
     "output_type": "execute_result"
    }
   ],
   "source": [
    "python_sum(10)"
   ]
  },
  {
   "cell_type": "markdown",
   "id": "04c32da3",
   "metadata": {},
   "source": [
    "## Numpy实现"
   ]
  },
  {
   "cell_type": "code",
   "execution_count": 6,
   "id": "8e55ba71",
   "metadata": {},
   "outputs": [],
   "source": [
    "def numpy_sum(n):\n",
    "    a = np.arange(n) ** 2\n",
    "    b = np.arange(n) ** 3\n",
    "    return a+b"
   ]
  },
  {
   "cell_type": "code",
   "execution_count": 7,
   "id": "a01371e6",
   "metadata": {},
   "outputs": [
    {
     "data": {
      "text/plain": [
       "array([  0,   2,  12,  36,  80, 150, 252, 392, 576, 810], dtype=int32)"
      ]
     },
     "execution_count": 7,
     "metadata": {},
     "output_type": "execute_result"
    }
   ],
   "source": [
    "numpy_sum(10)"
   ]
  },
  {
   "cell_type": "markdown",
   "id": "0b8102d6",
   "metadata": {},
   "source": [
    "## 性能对比：执行1000次"
   ]
  },
  {
   "cell_type": "code",
   "execution_count": 9,
   "id": "fa4b0e29",
   "metadata": {},
   "outputs": [
    {
     "name": "stdout",
     "output_type": "stream",
     "text": [
      "727 µs ± 159 µs per loop (mean ± std. dev. of 7 runs, 1000 loops each)\n"
     ]
    }
   ],
   "source": [
    "%timeit python_sum(1000)"
   ]
  },
  {
   "cell_type": "code",
   "execution_count": 10,
   "id": "e8ca6e6f",
   "metadata": {},
   "outputs": [
    {
     "name": "stdout",
     "output_type": "stream",
     "text": [
      "8.53 µs ± 75.2 ns per loop (mean ± std. dev. of 7 runs, 100000 loops each)\n"
     ]
    }
   ],
   "source": [
    "%timeit numpy_sum(1000)"
   ]
  },
  {
   "cell_type": "markdown",
   "id": "668be4ff",
   "metadata": {},
   "source": [
    "## 性能对比：执行10w次"
   ]
  },
  {
   "cell_type": "code",
   "execution_count": null,
   "id": "820a6a07",
   "metadata": {},
   "outputs": [],
   "source": [
    "%timeit python_sum(1000*100)"
   ]
  }
 ],
 "metadata": {
  "kernelspec": {
   "display_name": "Python 3",
   "language": "python",
   "name": "python3"
  },
  "language_info": {
   "codemirror_mode": {
    "name": "ipython",
    "version": 3
   },
   "file_extension": ".py",
   "mimetype": "text/x-python",
   "name": "python",
   "nbconvert_exporter": "python",
   "pygments_lexer": "ipython3",
   "version": "3.8.8"
  }
 },
 "nbformat": 4,
 "nbformat_minor": 5
}
