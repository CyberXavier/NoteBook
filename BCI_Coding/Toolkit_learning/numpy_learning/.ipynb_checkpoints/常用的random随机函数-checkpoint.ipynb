{
 "cells": [
  {
   "cell_type": "markdown",
   "id": "00a6c3c5",
   "metadata": {},
   "source": [
    "# 常用的random随机函数"
   ]
  },
  {
   "cell_type": "code",
   "execution_count": 1,
   "id": "4e1bf486",
   "metadata": {},
   "outputs": [],
   "source": [
    "import numpy as np\n",
    "np.random.seed(666)"
   ]
  },
  {
   "cell_type": "markdown",
   "id": "7c2d799b",
   "metadata": {},
   "source": [
    "**1.rand(d0,d1,......,dn)**\n",
    "***返回数据在[0,1)之间，具有均匀分布***"
   ]
  },
  {
   "cell_type": "code",
   "execution_count": 2,
   "id": "9463d08e",
   "metadata": {},
   "outputs": [
    {
     "data": {
      "text/plain": [
       "array([0.70043712, 0.84418664, 0.67651434, 0.72785806, 0.95145796])"
      ]
     },
     "execution_count": 2,
     "metadata": {},
     "output_type": "execute_result"
    }
   ],
   "source": [
    "np.random.rand(5)"
   ]
  },
  {
   "cell_type": "code",
   "execution_count": 4,
   "id": "782864e4",
   "metadata": {},
   "outputs": [
    {
     "data": {
      "text/plain": [
       "array([[0.0127032 , 0.4135877 , 0.04881279, 0.09992856],\n",
       "       [0.50806631, 0.20024754, 0.74415417, 0.192892  ],\n",
       "       [0.70084475, 0.29322811, 0.77447945, 0.00510884]])"
      ]
     },
     "execution_count": 4,
     "metadata": {},
     "output_type": "execute_result"
    }
   ],
   "source": [
    "np.random.rand(3,4)"
   ]
  },
  {
   "cell_type": "code",
   "execution_count": 5,
   "id": "a0b23e55",
   "metadata": {},
   "outputs": [
    {
     "data": {
      "text/plain": [
       "array([[[0.11285765, 0.11095367, 0.24766823, 0.0232363 ],\n",
       "        [0.72732115, 0.34003494, 0.19750316, 0.90917959],\n",
       "        [0.97834699, 0.53280254, 0.25913185, 0.58381262]],\n",
       "\n",
       "       [[0.32569065, 0.88889931, 0.62640453, 0.81887369],\n",
       "        [0.54734542, 0.41671201, 0.74304719, 0.36959638],\n",
       "        [0.07516654, 0.77519298, 0.21940924, 0.07934213]]])"
      ]
     },
     "execution_count": 5,
     "metadata": {},
     "output_type": "execute_result"
    }
   ],
   "source": [
    "np.random.rand(2,3,4)"
   ]
  },
  {
   "cell_type": "markdown",
   "id": "d68a21b3",
   "metadata": {},
   "source": [
    "**2.randn(d0,d1,...,dn)**\n",
    "**返回具有标准正态分布(均值0，方差1)**"
   ]
  },
  {
   "cell_type": "code",
   "execution_count": 6,
   "id": "eb16b409",
   "metadata": {},
   "outputs": [
    {
     "data": {
      "text/plain": [
       "array([-1.20990266, -0.04618272, -0.44118244,  0.46953431,  0.44325817])"
      ]
     },
     "execution_count": 6,
     "metadata": {},
     "output_type": "execute_result"
    }
   ],
   "source": [
    "np.random.randn(5)"
   ]
  },
  {
   "cell_type": "code",
   "execution_count": 7,
   "id": "c698e6d7",
   "metadata": {},
   "outputs": [
    {
     "data": {
      "text/plain": [
       "array([[-1.66738875, -1.81731749, -1.39753916,  0.78392691],\n",
       "       [-0.29129965,  0.67049043,  0.706931  ,  1.42965241],\n",
       "       [-0.41407013, -1.32672274, -0.14880188,  0.34771289]])"
      ]
     },
     "execution_count": 7,
     "metadata": {},
     "output_type": "execute_result"
    }
   ],
   "source": [
    "np.random.randn(3,4)"
   ]
  },
  {
   "cell_type": "markdown",
   "id": "394d9ce1",
   "metadata": {},
   "source": [
    "**3.randint(low[,high,size,dtype])**\n",
    "* 生成随机整数，包含low，不包含high[low,high)]\n",
    "* 只有low的话，[0,low)]"
   ]
  },
  {
   "cell_type": "code",
   "execution_count": 25,
   "id": "b6d57cdc",
   "metadata": {},
   "outputs": [
    {
     "data": {
      "text/plain": [
       "0"
      ]
     },
     "execution_count": 25,
     "metadata": {},
     "output_type": "execute_result"
    }
   ],
   "source": [
    "np.random.randint(5)"
   ]
  },
  {
   "cell_type": "code",
   "execution_count": 35,
   "id": "7f985c60",
   "metadata": {},
   "outputs": [
    {
     "data": {
      "text/plain": [
       "9"
      ]
     },
     "execution_count": 35,
     "metadata": {},
     "output_type": "execute_result"
    }
   ],
   "source": [
    "np.random.randint(1,10)"
   ]
  },
  {
   "cell_type": "code",
   "execution_count": 43,
   "id": "57fcd1bb",
   "metadata": {},
   "outputs": [
    {
     "data": {
      "text/plain": [
       "array([14, 21, 29, 25, 19])"
      ]
     },
     "execution_count": 43,
     "metadata": {},
     "output_type": "execute_result"
    }
   ],
   "source": [
    "np.random.randint(10,30,size=(5,))"
   ]
  },
  {
   "cell_type": "code",
   "execution_count": 47,
   "id": "598895fb",
   "metadata": {},
   "outputs": [
    {
     "data": {
      "text/plain": [
       "array([[[29, 24, 20, 26],\n",
       "        [19, 14, 13, 25],\n",
       "        [24, 24, 16, 24]],\n",
       "\n",
       "       [[26, 23, 12, 20],\n",
       "        [15, 23, 26, 23],\n",
       "        [18, 23, 18, 18]]])"
      ]
     },
     "execution_count": 47,
     "metadata": {},
     "output_type": "execute_result"
    }
   ],
   "source": [
    "np.random.randint(10,30,size=(2,3,4))"
   ]
  },
  {
   "cell_type": "code",
   "execution_count": null,
   "id": "055befe4",
   "metadata": {},
   "outputs": [],
   "source": []
  }
 ],
 "metadata": {
  "kernelspec": {
   "display_name": "Python 3",
   "language": "python",
   "name": "python3"
  },
  "language_info": {
   "codemirror_mode": {
    "name": "ipython",
    "version": 3
   },
   "file_extension": ".py",
   "mimetype": "text/x-python",
   "name": "python",
   "nbconvert_exporter": "python",
   "pygments_lexer": "ipython3",
   "version": "3.8.8"
  }
 },
 "nbformat": 4,
 "nbformat_minor": 5
}
